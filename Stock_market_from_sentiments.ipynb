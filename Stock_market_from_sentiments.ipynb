{
  "nbformat": 4,
  "nbformat_minor": 0,
  "metadata": {
    "colab": {
      "name": "Stock_market from sentiments",
      "provenance": []
    },
    "kernelspec": {
      "name": "python3",
      "display_name": "Python 3"
    },
    "language_info": {
      "name": "python"
    }
  },
  "cells": [
    {
      "cell_type": "code",
      "source": [
        "import re\n",
        "import tweepy\n",
        "import pandas as pd\n",
        "from tweepy import OAuthHandler\n",
        "from textblob import TextBlob\n",
        "import numpy as np\n",
        "import matplotlib\n",
        "import configparser"
      ],
      "metadata": {
        "id": "Ji7356qvgG4p"
      },
      "execution_count": null,
      "outputs": []
    },
    {
      "cell_type": "code",
      "source": [
        "first_day= pd.read_csv('/content/tweets_mon.csv')  #date- 23/01/22\n"
      ],
      "metadata": {
        "id": "2LqUzJWugPMP"
      },
      "execution_count": null,
      "outputs": []
    },
    {
      "cell_type": "code",
      "source": [
        "first_day=pd.DataFrame(first_day)\n",
        "\n",
        "\n",
        "first_day"
      ],
      "metadata": {
        "colab": {
          "base_uri": "https://localhost:8080/",
          "height": 424
        },
        "id": "8eCTMCPlgpNs",
        "outputId": "d764c2a3-544d-416a-ee31-a962cc51201d"
      },
      "execution_count": null,
      "outputs": [
        {
          "output_type": "execute_result",
          "data": {
            "text/plain": [
              "      day              Date  \\\n",
              "0      29  29-04-2022 23:17   \n",
              "1      29  29-04-2022 19:30   \n",
              "2      29  29-04-2022 18:32   \n",
              "3      29  29-04-2022 18:30   \n",
              "4      29  29-04-2022 18:27   \n",
              "...   ...               ...   \n",
              "2191   22  22-04-2022 13:18   \n",
              "2192   22  22-04-2022 13:15   \n",
              "2193   22  22-04-2022 13:14   \n",
              "2194   22  22-04-2022 13:08   \n",
              "2195   22  22-04-2022 13:04   \n",
              "\n",
              "                                                  Tweet                  Id  \n",
              "0     b'Morning Updates: 30/April/2022\\n#Nifty #SGXN...   b'makemeinvestor'  \n",
              "1     b'#Nifty extends decline to 3 weeks in a row t...       b'FighterAKR'  \n",
              "2     b\"Don't trade in quiet, dull markets. Dow, Liv...  b'WhoIsKamalSingh'  \n",
              "3     b'When in doubt, get out! If the market goes d...  b'WhoIsKamalSingh'  \n",
              "4     b'#us100 #nasdaq #rsistudy #eurusd #forex #gol...          b'Vinodrt'  \n",
              "...                                                 ...                 ...  \n",
              "2191  b'Must watch our weekly market analysis video ...   b'binitabharti91'  \n",
              "2192  b'#Sensex tumbles over 714 points on weak glob...   b'ZeeNewsEnglish'  \n",
              "2193  b'#Vinatiorganic breakout retest and buyers ba...      b'Prgupta1506'  \n",
              "2194  b\"High followers stock are traded heavily and ...        b'stock4me1'  \n",
              "2195  b'BUT THIS SUGAR FOR PETROL ENERGY\\n\\nHAVE YOU...  b'bankniftyMoment'  \n",
              "\n",
              "[2196 rows x 4 columns]"
            ],
            "text/html": [
              "\n",
              "  <div id=\"df-1a62c83f-a8df-481c-9d10-afb013399041\">\n",
              "    <div class=\"colab-df-container\">\n",
              "      <div>\n",
              "<style scoped>\n",
              "    .dataframe tbody tr th:only-of-type {\n",
              "        vertical-align: middle;\n",
              "    }\n",
              "\n",
              "    .dataframe tbody tr th {\n",
              "        vertical-align: top;\n",
              "    }\n",
              "\n",
              "    .dataframe thead th {\n",
              "        text-align: right;\n",
              "    }\n",
              "</style>\n",
              "<table border=\"1\" class=\"dataframe\">\n",
              "  <thead>\n",
              "    <tr style=\"text-align: right;\">\n",
              "      <th></th>\n",
              "      <th>day</th>\n",
              "      <th>Date</th>\n",
              "      <th>Tweet</th>\n",
              "      <th>Id</th>\n",
              "    </tr>\n",
              "  </thead>\n",
              "  <tbody>\n",
              "    <tr>\n",
              "      <th>0</th>\n",
              "      <td>29</td>\n",
              "      <td>29-04-2022 23:17</td>\n",
              "      <td>b'Morning Updates: 30/April/2022\\n#Nifty #SGXN...</td>\n",
              "      <td>b'makemeinvestor'</td>\n",
              "    </tr>\n",
              "    <tr>\n",
              "      <th>1</th>\n",
              "      <td>29</td>\n",
              "      <td>29-04-2022 19:30</td>\n",
              "      <td>b'#Nifty extends decline to 3 weeks in a row t...</td>\n",
              "      <td>b'FighterAKR'</td>\n",
              "    </tr>\n",
              "    <tr>\n",
              "      <th>2</th>\n",
              "      <td>29</td>\n",
              "      <td>29-04-2022 18:32</td>\n",
              "      <td>b\"Don't trade in quiet, dull markets. Dow, Liv...</td>\n",
              "      <td>b'WhoIsKamalSingh'</td>\n",
              "    </tr>\n",
              "    <tr>\n",
              "      <th>3</th>\n",
              "      <td>29</td>\n",
              "      <td>29-04-2022 18:30</td>\n",
              "      <td>b'When in doubt, get out! If the market goes d...</td>\n",
              "      <td>b'WhoIsKamalSingh'</td>\n",
              "    </tr>\n",
              "    <tr>\n",
              "      <th>4</th>\n",
              "      <td>29</td>\n",
              "      <td>29-04-2022 18:27</td>\n",
              "      <td>b'#us100 #nasdaq #rsistudy #eurusd #forex #gol...</td>\n",
              "      <td>b'Vinodrt'</td>\n",
              "    </tr>\n",
              "    <tr>\n",
              "      <th>...</th>\n",
              "      <td>...</td>\n",
              "      <td>...</td>\n",
              "      <td>...</td>\n",
              "      <td>...</td>\n",
              "    </tr>\n",
              "    <tr>\n",
              "      <th>2191</th>\n",
              "      <td>22</td>\n",
              "      <td>22-04-2022 13:18</td>\n",
              "      <td>b'Must watch our weekly market analysis video ...</td>\n",
              "      <td>b'binitabharti91'</td>\n",
              "    </tr>\n",
              "    <tr>\n",
              "      <th>2192</th>\n",
              "      <td>22</td>\n",
              "      <td>22-04-2022 13:15</td>\n",
              "      <td>b'#Sensex tumbles over 714 points on weak glob...</td>\n",
              "      <td>b'ZeeNewsEnglish'</td>\n",
              "    </tr>\n",
              "    <tr>\n",
              "      <th>2193</th>\n",
              "      <td>22</td>\n",
              "      <td>22-04-2022 13:14</td>\n",
              "      <td>b'#Vinatiorganic breakout retest and buyers ba...</td>\n",
              "      <td>b'Prgupta1506'</td>\n",
              "    </tr>\n",
              "    <tr>\n",
              "      <th>2194</th>\n",
              "      <td>22</td>\n",
              "      <td>22-04-2022 13:08</td>\n",
              "      <td>b\"High followers stock are traded heavily and ...</td>\n",
              "      <td>b'stock4me1'</td>\n",
              "    </tr>\n",
              "    <tr>\n",
              "      <th>2195</th>\n",
              "      <td>22</td>\n",
              "      <td>22-04-2022 13:04</td>\n",
              "      <td>b'BUT THIS SUGAR FOR PETROL ENERGY\\n\\nHAVE YOU...</td>\n",
              "      <td>b'bankniftyMoment'</td>\n",
              "    </tr>\n",
              "  </tbody>\n",
              "</table>\n",
              "<p>2196 rows × 4 columns</p>\n",
              "</div>\n",
              "      <button class=\"colab-df-convert\" onclick=\"convertToInteractive('df-1a62c83f-a8df-481c-9d10-afb013399041')\"\n",
              "              title=\"Convert this dataframe to an interactive table.\"\n",
              "              style=\"display:none;\">\n",
              "        \n",
              "  <svg xmlns=\"http://www.w3.org/2000/svg\" height=\"24px\"viewBox=\"0 0 24 24\"\n",
              "       width=\"24px\">\n",
              "    <path d=\"M0 0h24v24H0V0z\" fill=\"none\"/>\n",
              "    <path d=\"M18.56 5.44l.94 2.06.94-2.06 2.06-.94-2.06-.94-.94-2.06-.94 2.06-2.06.94zm-11 1L8.5 8.5l.94-2.06 2.06-.94-2.06-.94L8.5 2.5l-.94 2.06-2.06.94zm10 10l.94 2.06.94-2.06 2.06-.94-2.06-.94-.94-2.06-.94 2.06-2.06.94z\"/><path d=\"M17.41 7.96l-1.37-1.37c-.4-.4-.92-.59-1.43-.59-.52 0-1.04.2-1.43.59L10.3 9.45l-7.72 7.72c-.78.78-.78 2.05 0 2.83L4 21.41c.39.39.9.59 1.41.59.51 0 1.02-.2 1.41-.59l7.78-7.78 2.81-2.81c.8-.78.8-2.07 0-2.86zM5.41 20L4 18.59l7.72-7.72 1.47 1.35L5.41 20z\"/>\n",
              "  </svg>\n",
              "      </button>\n",
              "      \n",
              "  <style>\n",
              "    .colab-df-container {\n",
              "      display:flex;\n",
              "      flex-wrap:wrap;\n",
              "      gap: 12px;\n",
              "    }\n",
              "\n",
              "    .colab-df-convert {\n",
              "      background-color: #E8F0FE;\n",
              "      border: none;\n",
              "      border-radius: 50%;\n",
              "      cursor: pointer;\n",
              "      display: none;\n",
              "      fill: #1967D2;\n",
              "      height: 32px;\n",
              "      padding: 0 0 0 0;\n",
              "      width: 32px;\n",
              "    }\n",
              "\n",
              "    .colab-df-convert:hover {\n",
              "      background-color: #E2EBFA;\n",
              "      box-shadow: 0px 1px 2px rgba(60, 64, 67, 0.3), 0px 1px 3px 1px rgba(60, 64, 67, 0.15);\n",
              "      fill: #174EA6;\n",
              "    }\n",
              "\n",
              "    [theme=dark] .colab-df-convert {\n",
              "      background-color: #3B4455;\n",
              "      fill: #D2E3FC;\n",
              "    }\n",
              "\n",
              "    [theme=dark] .colab-df-convert:hover {\n",
              "      background-color: #434B5C;\n",
              "      box-shadow: 0px 1px 3px 1px rgba(0, 0, 0, 0.15);\n",
              "      filter: drop-shadow(0px 1px 2px rgba(0, 0, 0, 0.3));\n",
              "      fill: #FFFFFF;\n",
              "    }\n",
              "  </style>\n",
              "\n",
              "      <script>\n",
              "        const buttonEl =\n",
              "          document.querySelector('#df-1a62c83f-a8df-481c-9d10-afb013399041 button.colab-df-convert');\n",
              "        buttonEl.style.display =\n",
              "          google.colab.kernel.accessAllowed ? 'block' : 'none';\n",
              "\n",
              "        async function convertToInteractive(key) {\n",
              "          const element = document.querySelector('#df-1a62c83f-a8df-481c-9d10-afb013399041');\n",
              "          const dataTable =\n",
              "            await google.colab.kernel.invokeFunction('convertToInteractive',\n",
              "                                                     [key], {});\n",
              "          if (!dataTable) return;\n",
              "\n",
              "          const docLinkHtml = 'Like what you see? Visit the ' +\n",
              "            '<a target=\"_blank\" href=https://colab.research.google.com/notebooks/data_table.ipynb>data table notebook</a>'\n",
              "            + ' to learn more about interactive tables.';\n",
              "          element.innerHTML = '';\n",
              "          dataTable['output_type'] = 'display_data';\n",
              "          await google.colab.output.renderOutput(dataTable, element);\n",
              "          const docLink = document.createElement('div');\n",
              "          docLink.innerHTML = docLinkHtml;\n",
              "          element.appendChild(docLink);\n",
              "        }\n",
              "      </script>\n",
              "    </div>\n",
              "  </div>\n",
              "  "
            ]
          },
          "metadata": {},
          "execution_count": 3
        }
      ]
    },
    {
      "cell_type": "code",
      "source": [
        "keep_col=['Tweet','day']\n",
        "df_1=first_day[keep_col]\n",
        "df_1"
      ],
      "metadata": {
        "colab": {
          "base_uri": "https://localhost:8080/",
          "height": 424
        },
        "id": "xLgDSsDJjINI",
        "outputId": "2bc7441e-0158-4ad8-97f2-5807d219f14a"
      },
      "execution_count": null,
      "outputs": [
        {
          "output_type": "execute_result",
          "data": {
            "text/plain": [
              "                                                  Tweet  day\n",
              "0     b'Morning Updates: 30/April/2022\\n#Nifty #SGXN...   29\n",
              "1     b'#Nifty extends decline to 3 weeks in a row t...   29\n",
              "2     b\"Don't trade in quiet, dull markets. Dow, Liv...   29\n",
              "3     b'When in doubt, get out! If the market goes d...   29\n",
              "4     b'#us100 #nasdaq #rsistudy #eurusd #forex #gol...   29\n",
              "...                                                 ...  ...\n",
              "2191  b'Must watch our weekly market analysis video ...   22\n",
              "2192  b'#Sensex tumbles over 714 points on weak glob...   22\n",
              "2193  b'#Vinatiorganic breakout retest and buyers ba...   22\n",
              "2194  b\"High followers stock are traded heavily and ...   22\n",
              "2195  b'BUT THIS SUGAR FOR PETROL ENERGY\\n\\nHAVE YOU...   22\n",
              "\n",
              "[2196 rows x 2 columns]"
            ],
            "text/html": [
              "\n",
              "  <div id=\"df-b8aadcd3-9f5f-4857-b0fe-d75d8dcd5563\">\n",
              "    <div class=\"colab-df-container\">\n",
              "      <div>\n",
              "<style scoped>\n",
              "    .dataframe tbody tr th:only-of-type {\n",
              "        vertical-align: middle;\n",
              "    }\n",
              "\n",
              "    .dataframe tbody tr th {\n",
              "        vertical-align: top;\n",
              "    }\n",
              "\n",
              "    .dataframe thead th {\n",
              "        text-align: right;\n",
              "    }\n",
              "</style>\n",
              "<table border=\"1\" class=\"dataframe\">\n",
              "  <thead>\n",
              "    <tr style=\"text-align: right;\">\n",
              "      <th></th>\n",
              "      <th>Tweet</th>\n",
              "      <th>day</th>\n",
              "    </tr>\n",
              "  </thead>\n",
              "  <tbody>\n",
              "    <tr>\n",
              "      <th>0</th>\n",
              "      <td>b'Morning Updates: 30/April/2022\\n#Nifty #SGXN...</td>\n",
              "      <td>29</td>\n",
              "    </tr>\n",
              "    <tr>\n",
              "      <th>1</th>\n",
              "      <td>b'#Nifty extends decline to 3 weeks in a row t...</td>\n",
              "      <td>29</td>\n",
              "    </tr>\n",
              "    <tr>\n",
              "      <th>2</th>\n",
              "      <td>b\"Don't trade in quiet, dull markets. Dow, Liv...</td>\n",
              "      <td>29</td>\n",
              "    </tr>\n",
              "    <tr>\n",
              "      <th>3</th>\n",
              "      <td>b'When in doubt, get out! If the market goes d...</td>\n",
              "      <td>29</td>\n",
              "    </tr>\n",
              "    <tr>\n",
              "      <th>4</th>\n",
              "      <td>b'#us100 #nasdaq #rsistudy #eurusd #forex #gol...</td>\n",
              "      <td>29</td>\n",
              "    </tr>\n",
              "    <tr>\n",
              "      <th>...</th>\n",
              "      <td>...</td>\n",
              "      <td>...</td>\n",
              "    </tr>\n",
              "    <tr>\n",
              "      <th>2191</th>\n",
              "      <td>b'Must watch our weekly market analysis video ...</td>\n",
              "      <td>22</td>\n",
              "    </tr>\n",
              "    <tr>\n",
              "      <th>2192</th>\n",
              "      <td>b'#Sensex tumbles over 714 points on weak glob...</td>\n",
              "      <td>22</td>\n",
              "    </tr>\n",
              "    <tr>\n",
              "      <th>2193</th>\n",
              "      <td>b'#Vinatiorganic breakout retest and buyers ba...</td>\n",
              "      <td>22</td>\n",
              "    </tr>\n",
              "    <tr>\n",
              "      <th>2194</th>\n",
              "      <td>b\"High followers stock are traded heavily and ...</td>\n",
              "      <td>22</td>\n",
              "    </tr>\n",
              "    <tr>\n",
              "      <th>2195</th>\n",
              "      <td>b'BUT THIS SUGAR FOR PETROL ENERGY\\n\\nHAVE YOU...</td>\n",
              "      <td>22</td>\n",
              "    </tr>\n",
              "  </tbody>\n",
              "</table>\n",
              "<p>2196 rows × 2 columns</p>\n",
              "</div>\n",
              "      <button class=\"colab-df-convert\" onclick=\"convertToInteractive('df-b8aadcd3-9f5f-4857-b0fe-d75d8dcd5563')\"\n",
              "              title=\"Convert this dataframe to an interactive table.\"\n",
              "              style=\"display:none;\">\n",
              "        \n",
              "  <svg xmlns=\"http://www.w3.org/2000/svg\" height=\"24px\"viewBox=\"0 0 24 24\"\n",
              "       width=\"24px\">\n",
              "    <path d=\"M0 0h24v24H0V0z\" fill=\"none\"/>\n",
              "    <path d=\"M18.56 5.44l.94 2.06.94-2.06 2.06-.94-2.06-.94-.94-2.06-.94 2.06-2.06.94zm-11 1L8.5 8.5l.94-2.06 2.06-.94-2.06-.94L8.5 2.5l-.94 2.06-2.06.94zm10 10l.94 2.06.94-2.06 2.06-.94-2.06-.94-.94-2.06-.94 2.06-2.06.94z\"/><path d=\"M17.41 7.96l-1.37-1.37c-.4-.4-.92-.59-1.43-.59-.52 0-1.04.2-1.43.59L10.3 9.45l-7.72 7.72c-.78.78-.78 2.05 0 2.83L4 21.41c.39.39.9.59 1.41.59.51 0 1.02-.2 1.41-.59l7.78-7.78 2.81-2.81c.8-.78.8-2.07 0-2.86zM5.41 20L4 18.59l7.72-7.72 1.47 1.35L5.41 20z\"/>\n",
              "  </svg>\n",
              "      </button>\n",
              "      \n",
              "  <style>\n",
              "    .colab-df-container {\n",
              "      display:flex;\n",
              "      flex-wrap:wrap;\n",
              "      gap: 12px;\n",
              "    }\n",
              "\n",
              "    .colab-df-convert {\n",
              "      background-color: #E8F0FE;\n",
              "      border: none;\n",
              "      border-radius: 50%;\n",
              "      cursor: pointer;\n",
              "      display: none;\n",
              "      fill: #1967D2;\n",
              "      height: 32px;\n",
              "      padding: 0 0 0 0;\n",
              "      width: 32px;\n",
              "    }\n",
              "\n",
              "    .colab-df-convert:hover {\n",
              "      background-color: #E2EBFA;\n",
              "      box-shadow: 0px 1px 2px rgba(60, 64, 67, 0.3), 0px 1px 3px 1px rgba(60, 64, 67, 0.15);\n",
              "      fill: #174EA6;\n",
              "    }\n",
              "\n",
              "    [theme=dark] .colab-df-convert {\n",
              "      background-color: #3B4455;\n",
              "      fill: #D2E3FC;\n",
              "    }\n",
              "\n",
              "    [theme=dark] .colab-df-convert:hover {\n",
              "      background-color: #434B5C;\n",
              "      box-shadow: 0px 1px 3px 1px rgba(0, 0, 0, 0.15);\n",
              "      filter: drop-shadow(0px 1px 2px rgba(0, 0, 0, 0.3));\n",
              "      fill: #FFFFFF;\n",
              "    }\n",
              "  </style>\n",
              "\n",
              "      <script>\n",
              "        const buttonEl =\n",
              "          document.querySelector('#df-b8aadcd3-9f5f-4857-b0fe-d75d8dcd5563 button.colab-df-convert');\n",
              "        buttonEl.style.display =\n",
              "          google.colab.kernel.accessAllowed ? 'block' : 'none';\n",
              "\n",
              "        async function convertToInteractive(key) {\n",
              "          const element = document.querySelector('#df-b8aadcd3-9f5f-4857-b0fe-d75d8dcd5563');\n",
              "          const dataTable =\n",
              "            await google.colab.kernel.invokeFunction('convertToInteractive',\n",
              "                                                     [key], {});\n",
              "          if (!dataTable) return;\n",
              "\n",
              "          const docLinkHtml = 'Like what you see? Visit the ' +\n",
              "            '<a target=\"_blank\" href=https://colab.research.google.com/notebooks/data_table.ipynb>data table notebook</a>'\n",
              "            + ' to learn more about interactive tables.';\n",
              "          element.innerHTML = '';\n",
              "          dataTable['output_type'] = 'display_data';\n",
              "          await google.colab.output.renderOutput(dataTable, element);\n",
              "          const docLink = document.createElement('div');\n",
              "          docLink.innerHTML = docLinkHtml;\n",
              "          element.appendChild(docLink);\n",
              "        }\n",
              "      </script>\n",
              "    </div>\n",
              "  </div>\n",
              "  "
            ]
          },
          "metadata": {},
          "execution_count": 4
        }
      ]
    },
    {
      "cell_type": "code",
      "source": [
        "def cleanup(text):\n",
        "    temp = text.lower()\n",
        "    temp = re.sub(\"'\", \"\", temp) # to avoid removing contractions in english\n",
        "    temp = re.sub(\"@[A-Za-z0-9_]+\",\"\", temp)\n",
        "    temp = re.sub(\"#[A-Za-z0-9_]+\",\"\", temp)\n",
        "    temp = re.sub(r'http\\S+', '', temp)\n",
        "    temp = re.sub('[()!?]', ' ', temp)\n",
        "    temp = re.sub('\\[.*?\\]',' ', temp)\n",
        "    temp = re.sub(\"[^a-z0-9]\",\" \", temp)\n",
        "    temp=re.sub(r'RT : ','',temp)\n",
        "    return temp"
      ],
      "metadata": {
        "id": "4EqDSRVCg0p7"
      },
      "execution_count": null,
      "outputs": []
    },
    {
      "cell_type": "code",
      "source": [
        "df_1['Tweet']=df_1['Tweet'].apply(cleanup)\n",
        "\n",
        "df_1['Tweet']"
      ],
      "metadata": {
        "colab": {
          "base_uri": "https://localhost:8080/"
        },
        "id": "YI7VOL1kg3t9",
        "outputId": "75abb2f1-334e-4155-e324-283433209e8c"
      },
      "execution_count": null,
      "outputs": [
        {
          "output_type": "stream",
          "name": "stderr",
          "text": [
            "/usr/local/lib/python3.7/dist-packages/ipykernel_launcher.py:1: SettingWithCopyWarning: \n",
            "A value is trying to be set on a copy of a slice from a DataFrame.\n",
            "Try using .loc[row_indexer,col_indexer] = value instead\n",
            "\n",
            "See the caveats in the documentation: https://pandas.pydata.org/pandas-docs/stable/user_guide/indexing.html#returning-a-view-versus-a-copy\n",
            "  \"\"\"Entry point for launching an IPython kernel.\n"
          ]
        },
        {
          "output_type": "execute_result",
          "data": {
            "text/plain": [
              "0       bmorning updates  30 april 2022 n     nglobal ...\n",
              "1       b extends decline to 3 weeks in a row to close...\n",
              "2       b dont trade in quiet  dull markets  dow  live...\n",
              "3       bwhen in doubt  get out  if the market goes du...\n",
              "4       b         9800 now seems probable wth weekly c...\n",
              "                              ...                        \n",
              "2191    bmust watch our weekly market analysis video a...\n",
              "2192    b tumbles over 714 points on weak global trend...\n",
              "2193    b breakout retest and buyers back again    loo...\n",
              "2194    b high followers stock are traded heavily and ...\n",
              "2195    bbut this sugar for petrol energy n nhave you ...\n",
              "Name: Tweet, Length: 2196, dtype: object"
            ]
          },
          "metadata": {},
          "execution_count": 6
        }
      ]
    },
    {
      "cell_type": "code",
      "source": [
        "def getTextSubjectivity(text):\n",
        "  return TextBlob(text).sentiment.subjectivity"
      ],
      "metadata": {
        "id": "nWkWnKcihZsb"
      },
      "execution_count": null,
      "outputs": []
    },
    {
      "cell_type": "code",
      "source": [
        "def getTextPolarity(text):\n",
        "  return TextBlob(text).sentiment.polarity"
      ],
      "metadata": {
        "id": "QLeVPYdzhdpY"
      },
      "execution_count": null,
      "outputs": []
    },
    {
      "cell_type": "code",
      "source": [
        "df_1['subjectivity']=df_1['Tweet'].apply(getTextSubjectivity)\n",
        "df_1['polarity']=df_1['Tweet'].apply(getTextPolarity)"
      ],
      "metadata": {
        "colab": {
          "base_uri": "https://localhost:8080/"
        },
        "id": "utSKkjw7hhMm",
        "outputId": "33f8fe8b-abc4-4399-b05c-0d61af9ce6a3"
      },
      "execution_count": null,
      "outputs": [
        {
          "output_type": "stream",
          "name": "stderr",
          "text": [
            "/usr/local/lib/python3.7/dist-packages/ipykernel_launcher.py:1: SettingWithCopyWarning: \n",
            "A value is trying to be set on a copy of a slice from a DataFrame.\n",
            "Try using .loc[row_indexer,col_indexer] = value instead\n",
            "\n",
            "See the caveats in the documentation: https://pandas.pydata.org/pandas-docs/stable/user_guide/indexing.html#returning-a-view-versus-a-copy\n",
            "  \"\"\"Entry point for launching an IPython kernel.\n"
          ]
        }
      ]
    },
    {
      "cell_type": "code",
      "source": [
        "df_1.head()"
      ],
      "metadata": {
        "colab": {
          "base_uri": "https://localhost:8080/",
          "height": 206
        },
        "id": "pGs3UyxdlJzi",
        "outputId": "fb32a4ef-6a99-44b5-b729-a4067b0c7b7a"
      },
      "execution_count": null,
      "outputs": [
        {
          "output_type": "execute_result",
          "data": {
            "text/plain": [
              "                                               Tweet  day  subjectivity  \\\n",
              "0  bmorning updates  30 april 2022 n     nglobal ...   29      0.000000   \n",
              "1  b extends decline to 3 weeks in a row to close...   29      0.100000   \n",
              "2  b dont trade in quiet  dull markets  dow  live...   29      0.416667   \n",
              "3  bwhen in doubt  get out  if the market goes du...   29      0.416667   \n",
              "4  b         9800 now seems probable wth weekly c...   29      0.000000   \n",
              "\n",
              "   polarity  \n",
              "0  0.000000  \n",
              "1  0.000000  \n",
              "2 -0.145833  \n",
              "3 -0.145833  \n",
              "4  0.000000  "
            ],
            "text/html": [
              "\n",
              "  <div id=\"df-049af6ad-6e29-4afd-b816-6dd546fba9d0\">\n",
              "    <div class=\"colab-df-container\">\n",
              "      <div>\n",
              "<style scoped>\n",
              "    .dataframe tbody tr th:only-of-type {\n",
              "        vertical-align: middle;\n",
              "    }\n",
              "\n",
              "    .dataframe tbody tr th {\n",
              "        vertical-align: top;\n",
              "    }\n",
              "\n",
              "    .dataframe thead th {\n",
              "        text-align: right;\n",
              "    }\n",
              "</style>\n",
              "<table border=\"1\" class=\"dataframe\">\n",
              "  <thead>\n",
              "    <tr style=\"text-align: right;\">\n",
              "      <th></th>\n",
              "      <th>Tweet</th>\n",
              "      <th>day</th>\n",
              "      <th>subjectivity</th>\n",
              "      <th>polarity</th>\n",
              "    </tr>\n",
              "  </thead>\n",
              "  <tbody>\n",
              "    <tr>\n",
              "      <th>0</th>\n",
              "      <td>bmorning updates  30 april 2022 n     nglobal ...</td>\n",
              "      <td>29</td>\n",
              "      <td>0.000000</td>\n",
              "      <td>0.000000</td>\n",
              "    </tr>\n",
              "    <tr>\n",
              "      <th>1</th>\n",
              "      <td>b extends decline to 3 weeks in a row to close...</td>\n",
              "      <td>29</td>\n",
              "      <td>0.100000</td>\n",
              "      <td>0.000000</td>\n",
              "    </tr>\n",
              "    <tr>\n",
              "      <th>2</th>\n",
              "      <td>b dont trade in quiet  dull markets  dow  live...</td>\n",
              "      <td>29</td>\n",
              "      <td>0.416667</td>\n",
              "      <td>-0.145833</td>\n",
              "    </tr>\n",
              "    <tr>\n",
              "      <th>3</th>\n",
              "      <td>bwhen in doubt  get out  if the market goes du...</td>\n",
              "      <td>29</td>\n",
              "      <td>0.416667</td>\n",
              "      <td>-0.145833</td>\n",
              "    </tr>\n",
              "    <tr>\n",
              "      <th>4</th>\n",
              "      <td>b         9800 now seems probable wth weekly c...</td>\n",
              "      <td>29</td>\n",
              "      <td>0.000000</td>\n",
              "      <td>0.000000</td>\n",
              "    </tr>\n",
              "  </tbody>\n",
              "</table>\n",
              "</div>\n",
              "      <button class=\"colab-df-convert\" onclick=\"convertToInteractive('df-049af6ad-6e29-4afd-b816-6dd546fba9d0')\"\n",
              "              title=\"Convert this dataframe to an interactive table.\"\n",
              "              style=\"display:none;\">\n",
              "        \n",
              "  <svg xmlns=\"http://www.w3.org/2000/svg\" height=\"24px\"viewBox=\"0 0 24 24\"\n",
              "       width=\"24px\">\n",
              "    <path d=\"M0 0h24v24H0V0z\" fill=\"none\"/>\n",
              "    <path d=\"M18.56 5.44l.94 2.06.94-2.06 2.06-.94-2.06-.94-.94-2.06-.94 2.06-2.06.94zm-11 1L8.5 8.5l.94-2.06 2.06-.94-2.06-.94L8.5 2.5l-.94 2.06-2.06.94zm10 10l.94 2.06.94-2.06 2.06-.94-2.06-.94-.94-2.06-.94 2.06-2.06.94z\"/><path d=\"M17.41 7.96l-1.37-1.37c-.4-.4-.92-.59-1.43-.59-.52 0-1.04.2-1.43.59L10.3 9.45l-7.72 7.72c-.78.78-.78 2.05 0 2.83L4 21.41c.39.39.9.59 1.41.59.51 0 1.02-.2 1.41-.59l7.78-7.78 2.81-2.81c.8-.78.8-2.07 0-2.86zM5.41 20L4 18.59l7.72-7.72 1.47 1.35L5.41 20z\"/>\n",
              "  </svg>\n",
              "      </button>\n",
              "      \n",
              "  <style>\n",
              "    .colab-df-container {\n",
              "      display:flex;\n",
              "      flex-wrap:wrap;\n",
              "      gap: 12px;\n",
              "    }\n",
              "\n",
              "    .colab-df-convert {\n",
              "      background-color: #E8F0FE;\n",
              "      border: none;\n",
              "      border-radius: 50%;\n",
              "      cursor: pointer;\n",
              "      display: none;\n",
              "      fill: #1967D2;\n",
              "      height: 32px;\n",
              "      padding: 0 0 0 0;\n",
              "      width: 32px;\n",
              "    }\n",
              "\n",
              "    .colab-df-convert:hover {\n",
              "      background-color: #E2EBFA;\n",
              "      box-shadow: 0px 1px 2px rgba(60, 64, 67, 0.3), 0px 1px 3px 1px rgba(60, 64, 67, 0.15);\n",
              "      fill: #174EA6;\n",
              "    }\n",
              "\n",
              "    [theme=dark] .colab-df-convert {\n",
              "      background-color: #3B4455;\n",
              "      fill: #D2E3FC;\n",
              "    }\n",
              "\n",
              "    [theme=dark] .colab-df-convert:hover {\n",
              "      background-color: #434B5C;\n",
              "      box-shadow: 0px 1px 3px 1px rgba(0, 0, 0, 0.15);\n",
              "      filter: drop-shadow(0px 1px 2px rgba(0, 0, 0, 0.3));\n",
              "      fill: #FFFFFF;\n",
              "    }\n",
              "  </style>\n",
              "\n",
              "      <script>\n",
              "        const buttonEl =\n",
              "          document.querySelector('#df-049af6ad-6e29-4afd-b816-6dd546fba9d0 button.colab-df-convert');\n",
              "        buttonEl.style.display =\n",
              "          google.colab.kernel.accessAllowed ? 'block' : 'none';\n",
              "\n",
              "        async function convertToInteractive(key) {\n",
              "          const element = document.querySelector('#df-049af6ad-6e29-4afd-b816-6dd546fba9d0');\n",
              "          const dataTable =\n",
              "            await google.colab.kernel.invokeFunction('convertToInteractive',\n",
              "                                                     [key], {});\n",
              "          if (!dataTable) return;\n",
              "\n",
              "          const docLinkHtml = 'Like what you see? Visit the ' +\n",
              "            '<a target=\"_blank\" href=https://colab.research.google.com/notebooks/data_table.ipynb>data table notebook</a>'\n",
              "            + ' to learn more about interactive tables.';\n",
              "          element.innerHTML = '';\n",
              "          dataTable['output_type'] = 'display_data';\n",
              "          await google.colab.output.renderOutput(dataTable, element);\n",
              "          const docLink = document.createElement('div');\n",
              "          docLink.innerHTML = docLinkHtml;\n",
              "          element.appendChild(docLink);\n",
              "        }\n",
              "      </script>\n",
              "    </div>\n",
              "  </div>\n",
              "  "
            ]
          },
          "metadata": {},
          "execution_count": 10
        }
      ]
    },
    {
      "cell_type": "code",
      "source": [
        "def getSentiment(a):\n",
        "  if a<0:\n",
        "    return 'Negative'\n",
        "  elif a==0:\n",
        "    return \"Neutral\"\n",
        "  else :\n",
        "    return \"Positive\"\n",
        "# s = \"Thank you\"\n",
        "# A = cleanup(s)\n",
        "# Val = getTextSubjectivity(A)\n",
        "# Polar= getTextPolarity(A)\n",
        "# Val"
      ],
      "metadata": {
        "id": "ZGSnKjVhldHQ"
      },
      "execution_count": null,
      "outputs": []
    },
    {
      "cell_type": "code",
      "source": [
        "df_1['Score']=df_1['polarity'].apply(getSentiment)\n"
      ],
      "metadata": {
        "id": "4rsx_QwTnBqi"
      },
      "execution_count": null,
      "outputs": []
    },
    {
      "cell_type": "code",
      "source": [
        "df_1"
      ],
      "metadata": {
        "colab": {
          "base_uri": "https://localhost:8080/",
          "height": 424
        },
        "id": "CJqjnssTnr9g",
        "outputId": "7c5a44ac-6cda-4ae4-c3da-b754ff03e00a"
      },
      "execution_count": null,
      "outputs": [
        {
          "output_type": "execute_result",
          "data": {
            "text/plain": [
              "                                                  Tweet  day  subjectivity  \\\n",
              "0     bmorning updates  30 april 2022 n     nglobal ...   29      0.000000   \n",
              "1     b extends decline to 3 weeks in a row to close...   29      0.100000   \n",
              "2     b dont trade in quiet  dull markets  dow  live...   29      0.416667   \n",
              "3     bwhen in doubt  get out  if the market goes du...   29      0.416667   \n",
              "4     b         9800 now seems probable wth weekly c...   29      0.000000   \n",
              "...                                                 ...  ...           ...   \n",
              "2191  bmust watch our weekly market analysis video a...   22      0.500000   \n",
              "2192  b tumbles over 714 points on weak global trend...   22      0.312500   \n",
              "2193  b breakout retest and buyers back again    loo...   22      0.300000   \n",
              "2194  b high followers stock are traded heavily and ...   22      0.465714   \n",
              "2195  bbut this sugar for petrol energy n nhave you ...   22      0.800000   \n",
              "\n",
              "      polarity     Score  \n",
              "0     0.000000   Neutral  \n",
              "1     0.000000   Neutral  \n",
              "2    -0.145833  Negative  \n",
              "3    -0.145833  Negative  \n",
              "4     0.000000   Neutral  \n",
              "...        ...       ...  \n",
              "2191  0.200000  Positive  \n",
              "2192 -0.187500  Negative  \n",
              "2193  0.350000  Positive  \n",
              "2194 -0.013333  Negative  \n",
              "2195  0.400000  Positive  \n",
              "\n",
              "[2196 rows x 5 columns]"
            ],
            "text/html": [
              "\n",
              "  <div id=\"df-d5cdc355-3746-4dce-849d-d2a3ce5d41ae\">\n",
              "    <div class=\"colab-df-container\">\n",
              "      <div>\n",
              "<style scoped>\n",
              "    .dataframe tbody tr th:only-of-type {\n",
              "        vertical-align: middle;\n",
              "    }\n",
              "\n",
              "    .dataframe tbody tr th {\n",
              "        vertical-align: top;\n",
              "    }\n",
              "\n",
              "    .dataframe thead th {\n",
              "        text-align: right;\n",
              "    }\n",
              "</style>\n",
              "<table border=\"1\" class=\"dataframe\">\n",
              "  <thead>\n",
              "    <tr style=\"text-align: right;\">\n",
              "      <th></th>\n",
              "      <th>Tweet</th>\n",
              "      <th>day</th>\n",
              "      <th>subjectivity</th>\n",
              "      <th>polarity</th>\n",
              "      <th>Score</th>\n",
              "    </tr>\n",
              "  </thead>\n",
              "  <tbody>\n",
              "    <tr>\n",
              "      <th>0</th>\n",
              "      <td>bmorning updates  30 april 2022 n     nglobal ...</td>\n",
              "      <td>29</td>\n",
              "      <td>0.000000</td>\n",
              "      <td>0.000000</td>\n",
              "      <td>Neutral</td>\n",
              "    </tr>\n",
              "    <tr>\n",
              "      <th>1</th>\n",
              "      <td>b extends decline to 3 weeks in a row to close...</td>\n",
              "      <td>29</td>\n",
              "      <td>0.100000</td>\n",
              "      <td>0.000000</td>\n",
              "      <td>Neutral</td>\n",
              "    </tr>\n",
              "    <tr>\n",
              "      <th>2</th>\n",
              "      <td>b dont trade in quiet  dull markets  dow  live...</td>\n",
              "      <td>29</td>\n",
              "      <td>0.416667</td>\n",
              "      <td>-0.145833</td>\n",
              "      <td>Negative</td>\n",
              "    </tr>\n",
              "    <tr>\n",
              "      <th>3</th>\n",
              "      <td>bwhen in doubt  get out  if the market goes du...</td>\n",
              "      <td>29</td>\n",
              "      <td>0.416667</td>\n",
              "      <td>-0.145833</td>\n",
              "      <td>Negative</td>\n",
              "    </tr>\n",
              "    <tr>\n",
              "      <th>4</th>\n",
              "      <td>b         9800 now seems probable wth weekly c...</td>\n",
              "      <td>29</td>\n",
              "      <td>0.000000</td>\n",
              "      <td>0.000000</td>\n",
              "      <td>Neutral</td>\n",
              "    </tr>\n",
              "    <tr>\n",
              "      <th>...</th>\n",
              "      <td>...</td>\n",
              "      <td>...</td>\n",
              "      <td>...</td>\n",
              "      <td>...</td>\n",
              "      <td>...</td>\n",
              "    </tr>\n",
              "    <tr>\n",
              "      <th>2191</th>\n",
              "      <td>bmust watch our weekly market analysis video a...</td>\n",
              "      <td>22</td>\n",
              "      <td>0.500000</td>\n",
              "      <td>0.200000</td>\n",
              "      <td>Positive</td>\n",
              "    </tr>\n",
              "    <tr>\n",
              "      <th>2192</th>\n",
              "      <td>b tumbles over 714 points on weak global trend...</td>\n",
              "      <td>22</td>\n",
              "      <td>0.312500</td>\n",
              "      <td>-0.187500</td>\n",
              "      <td>Negative</td>\n",
              "    </tr>\n",
              "    <tr>\n",
              "      <th>2193</th>\n",
              "      <td>b breakout retest and buyers back again    loo...</td>\n",
              "      <td>22</td>\n",
              "      <td>0.300000</td>\n",
              "      <td>0.350000</td>\n",
              "      <td>Positive</td>\n",
              "    </tr>\n",
              "    <tr>\n",
              "      <th>2194</th>\n",
              "      <td>b high followers stock are traded heavily and ...</td>\n",
              "      <td>22</td>\n",
              "      <td>0.465714</td>\n",
              "      <td>-0.013333</td>\n",
              "      <td>Negative</td>\n",
              "    </tr>\n",
              "    <tr>\n",
              "      <th>2195</th>\n",
              "      <td>bbut this sugar for petrol energy n nhave you ...</td>\n",
              "      <td>22</td>\n",
              "      <td>0.800000</td>\n",
              "      <td>0.400000</td>\n",
              "      <td>Positive</td>\n",
              "    </tr>\n",
              "  </tbody>\n",
              "</table>\n",
              "<p>2196 rows × 5 columns</p>\n",
              "</div>\n",
              "      <button class=\"colab-df-convert\" onclick=\"convertToInteractive('df-d5cdc355-3746-4dce-849d-d2a3ce5d41ae')\"\n",
              "              title=\"Convert this dataframe to an interactive table.\"\n",
              "              style=\"display:none;\">\n",
              "        \n",
              "  <svg xmlns=\"http://www.w3.org/2000/svg\" height=\"24px\"viewBox=\"0 0 24 24\"\n",
              "       width=\"24px\">\n",
              "    <path d=\"M0 0h24v24H0V0z\" fill=\"none\"/>\n",
              "    <path d=\"M18.56 5.44l.94 2.06.94-2.06 2.06-.94-2.06-.94-.94-2.06-.94 2.06-2.06.94zm-11 1L8.5 8.5l.94-2.06 2.06-.94-2.06-.94L8.5 2.5l-.94 2.06-2.06.94zm10 10l.94 2.06.94-2.06 2.06-.94-2.06-.94-.94-2.06-.94 2.06-2.06.94z\"/><path d=\"M17.41 7.96l-1.37-1.37c-.4-.4-.92-.59-1.43-.59-.52 0-1.04.2-1.43.59L10.3 9.45l-7.72 7.72c-.78.78-.78 2.05 0 2.83L4 21.41c.39.39.9.59 1.41.59.51 0 1.02-.2 1.41-.59l7.78-7.78 2.81-2.81c.8-.78.8-2.07 0-2.86zM5.41 20L4 18.59l7.72-7.72 1.47 1.35L5.41 20z\"/>\n",
              "  </svg>\n",
              "      </button>\n",
              "      \n",
              "  <style>\n",
              "    .colab-df-container {\n",
              "      display:flex;\n",
              "      flex-wrap:wrap;\n",
              "      gap: 12px;\n",
              "    }\n",
              "\n",
              "    .colab-df-convert {\n",
              "      background-color: #E8F0FE;\n",
              "      border: none;\n",
              "      border-radius: 50%;\n",
              "      cursor: pointer;\n",
              "      display: none;\n",
              "      fill: #1967D2;\n",
              "      height: 32px;\n",
              "      padding: 0 0 0 0;\n",
              "      width: 32px;\n",
              "    }\n",
              "\n",
              "    .colab-df-convert:hover {\n",
              "      background-color: #E2EBFA;\n",
              "      box-shadow: 0px 1px 2px rgba(60, 64, 67, 0.3), 0px 1px 3px 1px rgba(60, 64, 67, 0.15);\n",
              "      fill: #174EA6;\n",
              "    }\n",
              "\n",
              "    [theme=dark] .colab-df-convert {\n",
              "      background-color: #3B4455;\n",
              "      fill: #D2E3FC;\n",
              "    }\n",
              "\n",
              "    [theme=dark] .colab-df-convert:hover {\n",
              "      background-color: #434B5C;\n",
              "      box-shadow: 0px 1px 3px 1px rgba(0, 0, 0, 0.15);\n",
              "      filter: drop-shadow(0px 1px 2px rgba(0, 0, 0, 0.3));\n",
              "      fill: #FFFFFF;\n",
              "    }\n",
              "  </style>\n",
              "\n",
              "      <script>\n",
              "        const buttonEl =\n",
              "          document.querySelector('#df-d5cdc355-3746-4dce-849d-d2a3ce5d41ae button.colab-df-convert');\n",
              "        buttonEl.style.display =\n",
              "          google.colab.kernel.accessAllowed ? 'block' : 'none';\n",
              "\n",
              "        async function convertToInteractive(key) {\n",
              "          const element = document.querySelector('#df-d5cdc355-3746-4dce-849d-d2a3ce5d41ae');\n",
              "          const dataTable =\n",
              "            await google.colab.kernel.invokeFunction('convertToInteractive',\n",
              "                                                     [key], {});\n",
              "          if (!dataTable) return;\n",
              "\n",
              "          const docLinkHtml = 'Like what you see? Visit the ' +\n",
              "            '<a target=\"_blank\" href=https://colab.research.google.com/notebooks/data_table.ipynb>data table notebook</a>'\n",
              "            + ' to learn more about interactive tables.';\n",
              "          element.innerHTML = '';\n",
              "          dataTable['output_type'] = 'display_data';\n",
              "          await google.colab.output.renderOutput(dataTable, element);\n",
              "          const docLink = document.createElement('div');\n",
              "          docLink.innerHTML = docLinkHtml;\n",
              "          element.appendChild(docLink);\n",
              "        }\n",
              "      </script>\n",
              "    </div>\n",
              "  </div>\n",
              "  "
            ]
          },
          "metadata": {},
          "execution_count": 13
        }
      ]
    },
    {
      "cell_type": "code",
      "source": [
        "positive=df_1[df_1['Score']==\"Positive\"]\n",
        "print(str(positive.shape[0]/(df_1.shape[0])*100)+\"% of positive tweets in Day 1\")\n",
        "pos_1=(positive.shape[0]/(df_1.shape[0])*100)\n",
        "\n",
        "\n"
      ],
      "metadata": {
        "colab": {
          "base_uri": "https://localhost:8080/"
        },
        "id": "xRGj9zs2pFYN",
        "outputId": "7b831cb3-6e67-4fe8-abae-5ef6aa7cd969"
      },
      "execution_count": null,
      "outputs": [
        {
          "output_type": "stream",
          "name": "stdout",
          "text": [
            "28.324225865209474% of positive tweets in Day 1\n"
          ]
        }
      ]
    },
    {
      "cell_type": "code",
      "source": [
        "negative=df_1[df_1['Score']==\"Negative\"]\n",
        "print(str(negative.shape[0]/(df_1.shape[0])*100)+\"% of negative tweets in Day 1\")\n",
        "neg_1=(negative.shape[0]/(df_1.shape[0])*100)\n"
      ],
      "metadata": {
        "colab": {
          "base_uri": "https://localhost:8080/"
        },
        "id": "nljyueKnsfi8",
        "outputId": "eca32bfa-dd91-4cc9-93a9-b3d1c0b6ac23"
      },
      "execution_count": null,
      "outputs": [
        {
          "output_type": "stream",
          "name": "stdout",
          "text": [
            "15.391621129326047% of negative tweets in Day 1\n"
          ]
        }
      ]
    },
    {
      "cell_type": "code",
      "source": [
        "neutral=df_1[df_1['Score']==\"Neutral\"]\n",
        "print(str(neutral.shape[0]/(df_1.shape[0])*100)+\"% of neutral tweets in Day 1\")\n",
        "neu_1=(neutral.shape[0]/(df_1.shape[0])*100)\n"
      ],
      "metadata": {
        "colab": {
          "base_uri": "https://localhost:8080/"
        },
        "id": "lQN24zlWsrfZ",
        "outputId": "e2201dec-a888-4fcc-f29b-fdc857e69c8d"
      },
      "execution_count": null,
      "outputs": [
        {
          "output_type": "stream",
          "name": "stdout",
          "text": [
            "56.284153005464475% of neutral tweets in Day 1\n"
          ]
        }
      ]
    },
    {
      "cell_type": "code",
      "source": [
        "for i in df_1.index:\n",
        "  if (df_1['Score'][i])=='Neutral':\n",
        "    df_1.drop(i, inplace=True)\n",
        "\n"
      ],
      "metadata": {
        "id": "BcX5zw_G1bgz"
      },
      "execution_count": null,
      "outputs": []
    },
    {
      "cell_type": "code",
      "source": [
        "df_1\n"
      ],
      "metadata": {
        "colab": {
          "base_uri": "https://localhost:8080/",
          "height": 424
        },
        "id": "x5ICe_Wk4HJJ",
        "outputId": "dc2df714-842f-4da0-e828-9b0b61af3b3e"
      },
      "execution_count": null,
      "outputs": [
        {
          "output_type": "execute_result",
          "data": {
            "text/plain": [
              "                                                  Tweet  day  subjectivity  \\\n",
              "2     b dont trade in quiet  dull markets  dow  live...   29      0.416667   \n",
              "3     bwhen in doubt  get out  if the market goes du...   29      0.416667   \n",
              "5     bstay in one time frame  yes  it is important ...   29      0.450000   \n",
              "6     b         pd has failed n almost 400 points ga...   29      0.300000   \n",
              "12    bas anticipated on our private telegram channe...   29      0.317593   \n",
              "...                                                 ...  ...           ...   \n",
              "2191  bmust watch our weekly market analysis video a...   22      0.500000   \n",
              "2192  b tumbles over 714 points on weak global trend...   22      0.312500   \n",
              "2193  b breakout retest and buyers back again    loo...   22      0.300000   \n",
              "2194  b high followers stock are traded heavily and ...   22      0.465714   \n",
              "2195  bbut this sugar for petrol energy n nhave you ...   22      0.800000   \n",
              "\n",
              "      polarity     Score  \n",
              "2    -0.145833  Negative  \n",
              "3    -0.145833  Negative  \n",
              "5     0.216667  Positive  \n",
              "6    -0.500000  Negative  \n",
              "12   -0.103704  Negative  \n",
              "...        ...       ...  \n",
              "2191  0.200000  Positive  \n",
              "2192 -0.187500  Negative  \n",
              "2193  0.350000  Positive  \n",
              "2194 -0.013333  Negative  \n",
              "2195  0.400000  Positive  \n",
              "\n",
              "[960 rows x 5 columns]"
            ],
            "text/html": [
              "\n",
              "  <div id=\"df-dd643bab-e687-4298-ae92-5a0f61eab18e\">\n",
              "    <div class=\"colab-df-container\">\n",
              "      <div>\n",
              "<style scoped>\n",
              "    .dataframe tbody tr th:only-of-type {\n",
              "        vertical-align: middle;\n",
              "    }\n",
              "\n",
              "    .dataframe tbody tr th {\n",
              "        vertical-align: top;\n",
              "    }\n",
              "\n",
              "    .dataframe thead th {\n",
              "        text-align: right;\n",
              "    }\n",
              "</style>\n",
              "<table border=\"1\" class=\"dataframe\">\n",
              "  <thead>\n",
              "    <tr style=\"text-align: right;\">\n",
              "      <th></th>\n",
              "      <th>Tweet</th>\n",
              "      <th>day</th>\n",
              "      <th>subjectivity</th>\n",
              "      <th>polarity</th>\n",
              "      <th>Score</th>\n",
              "    </tr>\n",
              "  </thead>\n",
              "  <tbody>\n",
              "    <tr>\n",
              "      <th>2</th>\n",
              "      <td>b dont trade in quiet  dull markets  dow  live...</td>\n",
              "      <td>29</td>\n",
              "      <td>0.416667</td>\n",
              "      <td>-0.145833</td>\n",
              "      <td>Negative</td>\n",
              "    </tr>\n",
              "    <tr>\n",
              "      <th>3</th>\n",
              "      <td>bwhen in doubt  get out  if the market goes du...</td>\n",
              "      <td>29</td>\n",
              "      <td>0.416667</td>\n",
              "      <td>-0.145833</td>\n",
              "      <td>Negative</td>\n",
              "    </tr>\n",
              "    <tr>\n",
              "      <th>5</th>\n",
              "      <td>bstay in one time frame  yes  it is important ...</td>\n",
              "      <td>29</td>\n",
              "      <td>0.450000</td>\n",
              "      <td>0.216667</td>\n",
              "      <td>Positive</td>\n",
              "    </tr>\n",
              "    <tr>\n",
              "      <th>6</th>\n",
              "      <td>b         pd has failed n almost 400 points ga...</td>\n",
              "      <td>29</td>\n",
              "      <td>0.300000</td>\n",
              "      <td>-0.500000</td>\n",
              "      <td>Negative</td>\n",
              "    </tr>\n",
              "    <tr>\n",
              "      <th>12</th>\n",
              "      <td>bas anticipated on our private telegram channe...</td>\n",
              "      <td>29</td>\n",
              "      <td>0.317593</td>\n",
              "      <td>-0.103704</td>\n",
              "      <td>Negative</td>\n",
              "    </tr>\n",
              "    <tr>\n",
              "      <th>...</th>\n",
              "      <td>...</td>\n",
              "      <td>...</td>\n",
              "      <td>...</td>\n",
              "      <td>...</td>\n",
              "      <td>...</td>\n",
              "    </tr>\n",
              "    <tr>\n",
              "      <th>2191</th>\n",
              "      <td>bmust watch our weekly market analysis video a...</td>\n",
              "      <td>22</td>\n",
              "      <td>0.500000</td>\n",
              "      <td>0.200000</td>\n",
              "      <td>Positive</td>\n",
              "    </tr>\n",
              "    <tr>\n",
              "      <th>2192</th>\n",
              "      <td>b tumbles over 714 points on weak global trend...</td>\n",
              "      <td>22</td>\n",
              "      <td>0.312500</td>\n",
              "      <td>-0.187500</td>\n",
              "      <td>Negative</td>\n",
              "    </tr>\n",
              "    <tr>\n",
              "      <th>2193</th>\n",
              "      <td>b breakout retest and buyers back again    loo...</td>\n",
              "      <td>22</td>\n",
              "      <td>0.300000</td>\n",
              "      <td>0.350000</td>\n",
              "      <td>Positive</td>\n",
              "    </tr>\n",
              "    <tr>\n",
              "      <th>2194</th>\n",
              "      <td>b high followers stock are traded heavily and ...</td>\n",
              "      <td>22</td>\n",
              "      <td>0.465714</td>\n",
              "      <td>-0.013333</td>\n",
              "      <td>Negative</td>\n",
              "    </tr>\n",
              "    <tr>\n",
              "      <th>2195</th>\n",
              "      <td>bbut this sugar for petrol energy n nhave you ...</td>\n",
              "      <td>22</td>\n",
              "      <td>0.800000</td>\n",
              "      <td>0.400000</td>\n",
              "      <td>Positive</td>\n",
              "    </tr>\n",
              "  </tbody>\n",
              "</table>\n",
              "<p>960 rows × 5 columns</p>\n",
              "</div>\n",
              "      <button class=\"colab-df-convert\" onclick=\"convertToInteractive('df-dd643bab-e687-4298-ae92-5a0f61eab18e')\"\n",
              "              title=\"Convert this dataframe to an interactive table.\"\n",
              "              style=\"display:none;\">\n",
              "        \n",
              "  <svg xmlns=\"http://www.w3.org/2000/svg\" height=\"24px\"viewBox=\"0 0 24 24\"\n",
              "       width=\"24px\">\n",
              "    <path d=\"M0 0h24v24H0V0z\" fill=\"none\"/>\n",
              "    <path d=\"M18.56 5.44l.94 2.06.94-2.06 2.06-.94-2.06-.94-.94-2.06-.94 2.06-2.06.94zm-11 1L8.5 8.5l.94-2.06 2.06-.94-2.06-.94L8.5 2.5l-.94 2.06-2.06.94zm10 10l.94 2.06.94-2.06 2.06-.94-2.06-.94-.94-2.06-.94 2.06-2.06.94z\"/><path d=\"M17.41 7.96l-1.37-1.37c-.4-.4-.92-.59-1.43-.59-.52 0-1.04.2-1.43.59L10.3 9.45l-7.72 7.72c-.78.78-.78 2.05 0 2.83L4 21.41c.39.39.9.59 1.41.59.51 0 1.02-.2 1.41-.59l7.78-7.78 2.81-2.81c.8-.78.8-2.07 0-2.86zM5.41 20L4 18.59l7.72-7.72 1.47 1.35L5.41 20z\"/>\n",
              "  </svg>\n",
              "      </button>\n",
              "      \n",
              "  <style>\n",
              "    .colab-df-container {\n",
              "      display:flex;\n",
              "      flex-wrap:wrap;\n",
              "      gap: 12px;\n",
              "    }\n",
              "\n",
              "    .colab-df-convert {\n",
              "      background-color: #E8F0FE;\n",
              "      border: none;\n",
              "      border-radius: 50%;\n",
              "      cursor: pointer;\n",
              "      display: none;\n",
              "      fill: #1967D2;\n",
              "      height: 32px;\n",
              "      padding: 0 0 0 0;\n",
              "      width: 32px;\n",
              "    }\n",
              "\n",
              "    .colab-df-convert:hover {\n",
              "      background-color: #E2EBFA;\n",
              "      box-shadow: 0px 1px 2px rgba(60, 64, 67, 0.3), 0px 1px 3px 1px rgba(60, 64, 67, 0.15);\n",
              "      fill: #174EA6;\n",
              "    }\n",
              "\n",
              "    [theme=dark] .colab-df-convert {\n",
              "      background-color: #3B4455;\n",
              "      fill: #D2E3FC;\n",
              "    }\n",
              "\n",
              "    [theme=dark] .colab-df-convert:hover {\n",
              "      background-color: #434B5C;\n",
              "      box-shadow: 0px 1px 3px 1px rgba(0, 0, 0, 0.15);\n",
              "      filter: drop-shadow(0px 1px 2px rgba(0, 0, 0, 0.3));\n",
              "      fill: #FFFFFF;\n",
              "    }\n",
              "  </style>\n",
              "\n",
              "      <script>\n",
              "        const buttonEl =\n",
              "          document.querySelector('#df-dd643bab-e687-4298-ae92-5a0f61eab18e button.colab-df-convert');\n",
              "        buttonEl.style.display =\n",
              "          google.colab.kernel.accessAllowed ? 'block' : 'none';\n",
              "\n",
              "        async function convertToInteractive(key) {\n",
              "          const element = document.querySelector('#df-dd643bab-e687-4298-ae92-5a0f61eab18e');\n",
              "          const dataTable =\n",
              "            await google.colab.kernel.invokeFunction('convertToInteractive',\n",
              "                                                     [key], {});\n",
              "          if (!dataTable) return;\n",
              "\n",
              "          const docLinkHtml = 'Like what you see? Visit the ' +\n",
              "            '<a target=\"_blank\" href=https://colab.research.google.com/notebooks/data_table.ipynb>data table notebook</a>'\n",
              "            + ' to learn more about interactive tables.';\n",
              "          element.innerHTML = '';\n",
              "          dataTable['output_type'] = 'display_data';\n",
              "          await google.colab.output.renderOutput(dataTable, element);\n",
              "          const docLink = document.createElement('div');\n",
              "          docLink.innerHTML = docLinkHtml;\n",
              "          element.appendChild(docLink);\n",
              "        }\n",
              "      </script>\n",
              "    </div>\n",
              "  </div>\n",
              "  "
            ]
          },
          "metadata": {},
          "execution_count": 18
        }
      ]
    },
    {
      "cell_type": "code",
      "source": [
        "list_polarity=[]\n",
        "\n",
        "for i in df_1.index:\n",
        "  if (df_1['day'][i])==29:\n",
        "    count_1=0\n",
        "    count_1+=1\n",
        "    polarity=0\n",
        "    polarity+=(df_1['polarity'][i])\n",
        "    Net_polar_29=polarity/count_1\n",
        "  # print(Net_polar)\n",
        "  if (df_1['day'][i])==28:\n",
        "    count_2=0\n",
        "    count_2+=1\n",
        "    polarity=0\n",
        "    polarity+=(df_1['polarity'][i])\n",
        "    Net_polar_28=polarity/count_2\n",
        "  # print(Net_polar)\n",
        "  if (df_1['day'][i])==27:\n",
        "    count_3=0\n",
        "    count_3+=1\n",
        "    polarity=0\n",
        "    polarity+=(df_1['polarity'][i])\n",
        "    Net_polar_27=polarity/count_3\n",
        "  # print(Net_polar)\n",
        "  if (df_1['day'][i])==26:\n",
        "    count_4=0\n",
        "    count_4+=1\n",
        "    polarity=0\n",
        "    polarity+=(df_1['polarity'][i])\n",
        "    Net_polar_26=polarity/count_4\n",
        "  # print(Net_polar)\n",
        "  if (df_1['day'][i])==25:\n",
        "    count_5=0\n",
        "    count_5+=1\n",
        "    polarity_25=0\n",
        "    polarity_25+=(df_1['polarity'][i])\n",
        "    Net_polar_25=polarity_25/count_5\n",
        "  # print(Net_polar)\n",
        "  if (df_1['day'][i])==24:\n",
        "    count_24=0\n",
        "    count_24+=1\n",
        "    polarity_24=0\n",
        "    polarity_24+=(df_1['polarity'][i])\n",
        "    Net_polar_24=polarity_24/count_24\n",
        "  # print(Net_polar)\n",
        "  if (df_1['day'][i])==23:\n",
        "    count_23=0\n",
        "    count_23+=1\n",
        "    polarity_23=0\n",
        "    polarity_23+=(df_1['polarity'][i])\n",
        "    Net_polar_23=polarity_23/count_23\n",
        "  # print(Net_polar)\n",
        "  if (df_1['day'][i])==22:\n",
        "    count_22=0\n",
        "    count_22+=1\n",
        "    polarity_22=0\n",
        "    polarity_22+=(df_1['polarity'][i])\n",
        "    Net_polar_22=polarity_22/count_22\n",
        "list_polarity.append(Net_polar_22)\n",
        "list_polarity.append(Net_polar_23)\n",
        "list_polarity.append(Net_polar_24)\n",
        "list_polarity.append(Net_polar_25)\n",
        "list_polarity.append(Net_polar_26)\n",
        "list_polarity.append(Net_polar_27)\n",
        "list_polarity.append(Net_polar_28)\n",
        "list_polarity.append(Net_polar_29)\n",
        "#len(list_polarity)"
      ],
      "metadata": {
        "id": "q59qBh8-47Ca"
      },
      "execution_count": null,
      "outputs": []
    },
    {
      "cell_type": "code",
      "source": [
        "list_polarity"
      ],
      "metadata": {
        "colab": {
          "base_uri": "https://localhost:8080/"
        },
        "id": "Ako3TF269adN",
        "outputId": "6929eded-0b0f-416d-b9f1-301ab21cc392"
      },
      "execution_count": null,
      "outputs": [
        {
          "output_type": "execute_result",
          "data": {
            "text/plain": [
              "[0.4,\n",
              " 0.14285714285714285,\n",
              " 0.2722222222222222,\n",
              " 0.1,\n",
              " 0.35,\n",
              " 0.22499999999999998,\n",
              " 0.11499999999999999,\n",
              " 0.04166666666666667]"
            ]
          },
          "metadata": {},
          "execution_count": 20
        }
      ]
    },
    {
      "cell_type": "code",
      "source": [
        "import matplotlib.pyplot as plt\n",
        "import numpy as np\n",
        "\n",
        "# data to be plotted\n",
        "y= np.array(list_polarity)\n",
        "x= [22,23,24,25,26,27,28,29]\n",
        " \n",
        "# plotting\n",
        "plt.title(\"Line graph\")\n",
        "plt.xlabel(\"X axis\")\n",
        "plt.ylabel(\"Y axis\")\n",
        "plt.plot(x, y, color =\"red\")\n",
        "plt.show() \n"
      ],
      "metadata": {
        "id": "Yy5kxBYw9lR5",
        "colab": {
          "base_uri": "https://localhost:8080/",
          "height": 295
        },
        "outputId": "8659dc95-cbd9-48e3-aabb-96e263aa3c3e"
      },
      "execution_count": null,
      "outputs": [
        {
          "output_type": "display_data",
          "data": {
            "text/plain": [
              "<Figure size 432x288 with 1 Axes>"
            ],
            "image/png": "[encoded data removed]"
          },
          "metadata": {
            "needs_background": "light"
          }
        }
      ]
    },
    {
      "cell_type": "code",
      "source": [
        "#coming to stocks values--\n",
        "\n",
        "Stock_data= pd.read_csv('/content/Stocks_sensex - Sheet1.csv')  \n",
        "Stock_data.head()\n",
        "\n"
      ],
      "metadata": {
        "colab": {
          "base_uri": "https://localhost:8080/",
          "height": 206
        },
        "id": "DK5ft0i-Ek8f",
        "outputId": "8f050323-8090-4038-9257-0b829557f6c6"
      },
      "execution_count": null,
      "outputs": [
        {
          "output_type": "execute_result",
          "data": {
            "text/plain": [
              "         Date      Open      High       Low     Close  Adj Close  Volume  \\\n",
              "0  22-04-2022  57531.95  57689.86  57134.72  57197.15   57197.15    7600   \n",
              "1  23-04-2022  57531.95  57689.86  57134.72  57197.15   57197.15    7600   \n",
              "2  24-04-2022  57531.95  57689.86  57134.72  57197.15   57197.15    7600   \n",
              "3  25-04-2022  56757.64  56875.65  56356.87  56579.89   56579.89    7000   \n",
              "4  26-04-2022  57066.24  57442.24  56904.51  57356.61   57356.61    7300   \n",
              "\n",
              "     Factor  \n",
              "0 -4583.500  \n",
              "1 -4583.500  \n",
              "2 -4583.500  \n",
              "3 -2398.430  \n",
              "4  3941.983  "
            ],
            "text/html": [
              "\n",
              "  <div id=\"df-57b8cb1a-cb9d-4063-a58e-cb0224788de7\">\n",
              "    <div class=\"colab-df-container\">\n",
              "      <div>\n",
              "<style scoped>\n",
              "    .dataframe tbody tr th:only-of-type {\n",
              "        vertical-align: middle;\n",
              "    }\n",
              "\n",
              "    .dataframe tbody tr th {\n",
              "        vertical-align: top;\n",
              "    }\n",
              "\n",
              "    .dataframe thead th {\n",
              "        text-align: right;\n",
              "    }\n",
              "</style>\n",
              "<table border=\"1\" class=\"dataframe\">\n",
              "  <thead>\n",
              "    <tr style=\"text-align: right;\">\n",
              "      <th></th>\n",
              "      <th>Date</th>\n",
              "      <th>Open</th>\n",
              "      <th>High</th>\n",
              "      <th>Low</th>\n",
              "      <th>Close</th>\n",
              "      <th>Adj Close</th>\n",
              "      <th>Volume</th>\n",
              "      <th>Factor</th>\n",
              "    </tr>\n",
              "  </thead>\n",
              "  <tbody>\n",
              "    <tr>\n",
              "      <th>0</th>\n",
              "      <td>22-04-2022</td>\n",
              "      <td>57531.95</td>\n",
              "      <td>57689.86</td>\n",
              "      <td>57134.72</td>\n",
              "      <td>57197.15</td>\n",
              "      <td>57197.15</td>\n",
              "      <td>7600</td>\n",
              "      <td>-4583.500</td>\n",
              "    </tr>\n",
              "    <tr>\n",
              "      <th>1</th>\n",
              "      <td>23-04-2022</td>\n",
              "      <td>57531.95</td>\n",
              "      <td>57689.86</td>\n",
              "      <td>57134.72</td>\n",
              "      <td>57197.15</td>\n",
              "      <td>57197.15</td>\n",
              "      <td>7600</td>\n",
              "      <td>-4583.500</td>\n",
              "    </tr>\n",
              "    <tr>\n",
              "      <th>2</th>\n",
              "      <td>24-04-2022</td>\n",
              "      <td>57531.95</td>\n",
              "      <td>57689.86</td>\n",
              "      <td>57134.72</td>\n",
              "      <td>57197.15</td>\n",
              "      <td>57197.15</td>\n",
              "      <td>7600</td>\n",
              "      <td>-4583.500</td>\n",
              "    </tr>\n",
              "    <tr>\n",
              "      <th>3</th>\n",
              "      <td>25-04-2022</td>\n",
              "      <td>56757.64</td>\n",
              "      <td>56875.65</td>\n",
              "      <td>56356.87</td>\n",
              "      <td>56579.89</td>\n",
              "      <td>56579.89</td>\n",
              "      <td>7000</td>\n",
              "      <td>-2398.430</td>\n",
              "    </tr>\n",
              "    <tr>\n",
              "      <th>4</th>\n",
              "      <td>26-04-2022</td>\n",
              "      <td>57066.24</td>\n",
              "      <td>57442.24</td>\n",
              "      <td>56904.51</td>\n",
              "      <td>57356.61</td>\n",
              "      <td>57356.61</td>\n",
              "      <td>7300</td>\n",
              "      <td>3941.983</td>\n",
              "    </tr>\n",
              "  </tbody>\n",
              "</table>\n",
              "</div>\n",
              "      <button class=\"colab-df-convert\" onclick=\"convertToInteractive('df-57b8cb1a-cb9d-4063-a58e-cb0224788de7')\"\n",
              "              title=\"Convert this dataframe to an interactive table.\"\n",
              "              style=\"display:none;\">\n",
              "        \n",
              "  <svg xmlns=\"http://www.w3.org/2000/svg\" height=\"24px\"viewBox=\"0 0 24 24\"\n",
              "       width=\"24px\">\n",
              "    <path d=\"M0 0h24v24H0V0z\" fill=\"none\"/>\n",
              "    <path d=\"M18.56 5.44l.94 2.06.94-2.06 2.06-.94-2.06-.94-.94-2.06-.94 2.06-2.06.94zm-11 1L8.5 8.5l.94-2.06 2.06-.94-2.06-.94L8.5 2.5l-.94 2.06-2.06.94zm10 10l.94 2.06.94-2.06 2.06-.94-2.06-.94-.94-2.06-.94 2.06-2.06.94z\"/><path d=\"M17.41 7.96l-1.37-1.37c-.4-.4-.92-.59-1.43-.59-.52 0-1.04.2-1.43.59L10.3 9.45l-7.72 7.72c-.78.78-.78 2.05 0 2.83L4 21.41c.39.39.9.59 1.41.59.51 0 1.02-.2 1.41-.59l7.78-7.78 2.81-2.81c.8-.78.8-2.07 0-2.86zM5.41 20L4 18.59l7.72-7.72 1.47 1.35L5.41 20z\"/>\n",
              "  </svg>\n",
              "      </button>\n",
              "      \n",
              "  <style>\n",
              "    .colab-df-container {\n",
              "      display:flex;\n",
              "      flex-wrap:wrap;\n",
              "      gap: 12px;\n",
              "    }\n",
              "\n",
              "    .colab-df-convert {\n",
              "      background-color: #E8F0FE;\n",
              "      border: none;\n",
              "      border-radius: 50%;\n",
              "      cursor: pointer;\n",
              "      display: none;\n",
              "      fill: #1967D2;\n",
              "      height: 32px;\n",
              "      padding: 0 0 0 0;\n",
              "      width: 32px;\n",
              "    }\n",
              "\n",
              "    .colab-df-convert:hover {\n",
              "      background-color: #E2EBFA;\n",
              "      box-shadow: 0px 1px 2px rgba(60, 64, 67, 0.3), 0px 1px 3px 1px rgba(60, 64, 67, 0.15);\n",
              "      fill: #174EA6;\n",
              "    }\n",
              "\n",
              "    [theme=dark] .colab-df-convert {\n",
              "      background-color: #3B4455;\n",
              "      fill: #D2E3FC;\n",
              "    }\n",
              "\n",
              "    [theme=dark] .colab-df-convert:hover {\n",
              "      background-color: #434B5C;\n",
              "      box-shadow: 0px 1px 3px 1px rgba(0, 0, 0, 0.15);\n",
              "      filter: drop-shadow(0px 1px 2px rgba(0, 0, 0, 0.3));\n",
              "      fill: #FFFFFF;\n",
              "    }\n",
              "  </style>\n",
              "\n",
              "      <script>\n",
              "        const buttonEl =\n",
              "          document.querySelector('#df-57b8cb1a-cb9d-4063-a58e-cb0224788de7 button.colab-df-convert');\n",
              "        buttonEl.style.display =\n",
              "          google.colab.kernel.accessAllowed ? 'block' : 'none';\n",
              "\n",
              "        async function convertToInteractive(key) {\n",
              "          const element = document.querySelector('#df-57b8cb1a-cb9d-4063-a58e-cb0224788de7');\n",
              "          const dataTable =\n",
              "            await google.colab.kernel.invokeFunction('convertToInteractive',\n",
              "                                                     [key], {});\n",
              "          if (!dataTable) return;\n",
              "\n",
              "          const docLinkHtml = 'Like what you see? Visit the ' +\n",
              "            '<a target=\"_blank\" href=https://colab.research.google.com/notebooks/data_table.ipynb>data table notebook</a>'\n",
              "            + ' to learn more about interactive tables.';\n",
              "          element.innerHTML = '';\n",
              "          dataTable['output_type'] = 'display_data';\n",
              "          await google.colab.output.renderOutput(dataTable, element);\n",
              "          const docLink = document.createElement('div');\n",
              "          docLink.innerHTML = docLinkHtml;\n",
              "          element.appendChild(docLink);\n",
              "        }\n",
              "      </script>\n",
              "    </div>\n",
              "  </div>\n",
              "  "
            ]
          },
          "metadata": {},
          "execution_count": 22
        }
      ]
    },
    {
      "cell_type": "markdown",
      "source": [
        "# What is Factor here?\n",
        "\n",
        "We calculated a single value for representing the stock price fluctuations which can consider both the opening and closing price of the market.\n",
        "\n",
        "Our used formula - \n",
        "     \n",
        "     Factor = (Closing Price - Opening Price*Volume/(High of the day - low of the day)"
      ],
      "metadata": {
        "id": "AXuXFyqdHrzR"
      }
    },
    {
      "cell_type": "code",
      "source": [
        "from sklearn import preprocessing\n",
        "X_data= Stock_data['Factor']\n",
        "standard = preprocessing.scale(X_data)\n",
        "print(standard)\n"
      ],
      "metadata": {
        "colab": {
          "base_uri": "https://localhost:8080/"
        },
        "id": "gGdA1LHyJjAx",
        "outputId": "14e11bcd-e155-46f5-c577-c8406f616a18"
      },
      "execution_count": null,
      "outputs": [
        {
          "output_type": "stream",
          "name": "stdout",
          "text": [
            "[-0.6225022  -0.6225022  -0.6225022   0.07509179  2.09929878  0.14145527\n",
            "  0.84920479 -1.29754403]\n"
          ]
        }
      ]
    },
    {
      "cell_type": "code",
      "source": [
        "#This Value indicates the change in the stock prices that we will use to read the sentimental affect of twitter on them.\n",
        "\n",
        "\n",
        "y= np.array(standard)\n",
        "x= [22,23,24,25,26,27,28,29]\n",
        " \n",
        "# plotting the stock's change factor.\n",
        "plt.title(\"Line graph\")\n",
        "plt.xlabel(\"X axis\")\n",
        "plt.ylabel(\"Y axis\")\n",
        "plt.plot(x, y, color =\"red\")\n",
        "plt.show() \n"
      ],
      "metadata": {
        "colab": {
          "base_uri": "https://localhost:8080/",
          "height": 295
        },
        "id": "eH6A7am3KCcs",
        "outputId": "75c122f4-3d7b-41bd-da77-c0a908e36366"
      },
      "execution_count": null,
      "outputs": [
        {
          "output_type": "display_data",
          "data": {
            "text/plain": [
              "<Figure size 432x288 with 1 Axes>"
            ],
            "image/png": "[encoded data removed]"
          },
          "metadata": {
            "needs_background": "light"
          }
        }
      ]
    },
    {
      "cell_type": "markdown",
      "source": [
        "The major problem with this is of dataset, we can only get tweets of seven days from twitter on a particular hashtags and keywords that's why we can only illustrate how it will done but the problem of exact prediction can't be done properly."
      ],
      "metadata": {
        "id": "jOjhvOXXK78y"
      }
    },
    {
      "cell_type": "code",
      "source": [
        "#Now we have sentiments and the stocks factor as a testing data , that we could use for prediction , once we have larger data, atleas for an year.\n",
        "maindata= pd.read_csv('/content/Maindata - Sheet1.csv') \n",
        "maindata=pd.DataFrame(maindata)\n",
        "\n",
        "x=maindata['Factor']\n",
        "y=maindata['Sentiments']\n",
        "\n",
        "from sklearn.model_selection import train_test_split\n",
        "\n",
        "X_train,X_test,Y_train,Y_test=train_test_split(x,y)\n",
        "\n",
        "X_train= X_train.values.reshape(-1, 1)\n",
        "Y_train= Y_train.values.reshape(-1, 1)\n",
        "X_test = X_test.values.reshape(-1, 1)\n"
      ],
      "metadata": {
        "id": "UgF_zNBqLdUx"
      },
      "execution_count": null,
      "outputs": []
    },
    {
      "cell_type": "code",
      "source": [
        "x"
      ],
      "metadata": {
        "colab": {
          "base_uri": "https://localhost:8080/"
        },
        "id": "r6qyv333Njyj",
        "outputId": "e1eae172-2d45-4903-eee2-9e44c2069a3c"
      },
      "execution_count": null,
      "outputs": [
        {
          "output_type": "execute_result",
          "data": {
            "text/plain": [
              "0   -0.622502\n",
              "1   -0.622502\n",
              "2   -0.622502\n",
              "3    0.075092\n",
              "4    2.099299\n",
              "5    0.141455\n",
              "6    0.849205\n",
              "7   -1.297544\n",
              "Name: Factor, dtype: float64"
            ]
          },
          "metadata": {},
          "execution_count": 26
        }
      ]
    },
    {
      "cell_type": "code",
      "source": [
        "from sklearn.compose import ColumnTransformer\n",
        "from sklearn.pipeline import Pipeline\n",
        "from sklearn.preprocessing import OneHotEncoder\n",
        "from sklearn.metrics import r2_score,mean_absolute_error\n",
        "from sklearn.linear_model import LinearRegression,Ridge,Lasso\n",
        "from sklearn.neighbors import KNeighborsRegressor\n",
        "from sklearn.tree import DecisionTreeRegressor\n",
        "from sklearn.ensemble import RandomForestRegressor,GradientBoostingRegressor,AdaBoostRegressor,ExtraTreesRegressor\n",
        "from sklearn.svm import SVR\n",
        "from xgboost import XGBRegressor"
      ],
      "metadata": {
        "id": "Jl3w82UENPPr"
      },
      "execution_count": null,
      "outputs": []
    },
    {
      "cell_type": "code",
      "source": [
        "pipe= LinearRegression()\n",
        "pipe.fit(X_train,Y_train)\n",
        "\n",
        "y_pred = pipe.predict(X_test)\n",
        "\n",
        "print('R2 score',r2_score(Y_test,y_pred))\n",
        "print('MAE',mean_absolute_error(Y_test,y_pred))"
      ],
      "metadata": {
        "colab": {
          "base_uri": "https://localhost:8080/"
        },
        "id": "95TCd7_9QvG3",
        "outputId": "9c47275f-663b-49cd-da0b-b9ae25f9a374"
      },
      "execution_count": null,
      "outputs": [
        {
          "output_type": "stream",
          "name": "stdout",
          "text": [
            "R2 score -0.3741716601546934\n",
            "MAE 0.06468253964999998\n"
          ]
        }
      ]
    },
    {
      "cell_type": "code",
      "source": [
        "pipe=  RandomForestRegressor(n_estimators=100,\n",
        "                              random_state=3,\n",
        "                              max_samples=0.5,\n",
        "                              max_features=0.75,\n",
        "                              max_depth=15)\n",
        "pipe.fit(X_train,Y_train)\n",
        "\n",
        "y_pred = pipe.predict(X_test)\n",
        "\n",
        "print('R2 score',r2_score(Y_test,y_pred))\n",
        "print('MAE',mean_absolute_error(Y_test,y_pred))"
      ],
      "metadata": {
        "colab": {
          "base_uri": "https://localhost:8080/"
        },
        "id": "5zigl_VBR_hr",
        "outputId": "de445ae0-febf-4d7d-84a4-f33503239761"
      },
      "execution_count": null,
      "outputs": [
        {
          "output_type": "stream",
          "name": "stderr",
          "text": [
            "/usr/local/lib/python3.7/dist-packages/ipykernel_launcher.py:6: DataConversionWarning: A column-vector y was passed when a 1d array was expected. Please change the shape of y to (n_samples,), for example using ravel().\n",
            "  \n"
          ]
        },
        {
          "output_type": "stream",
          "name": "stdout",
          "text": [
            "R2 score -0.086075640183642\n",
            "MAE 0.06468253964999998\n"
          ]
        }
      ]
    },
    {
      "cell_type": "code",
      "source": [
        "from sklearn.ensemble import VotingRegressor,StackingRegressor\n",
        "rf = RandomForestRegressor(n_estimators=350,random_state=3,max_samples=0.5,max_features=0.75,max_depth=15)\n",
        "gbdt = GradientBoostingRegressor(n_estimators=100,max_features=0.5)\n",
        "xgb = XGBRegressor(n_estimators=25,learning_rate=0.3,max_depth=5)\n",
        "et = ExtraTreesRegressor(n_estimators=100,random_state=3,max_features=0.75,max_depth=10)\n",
        "\n",
        "pipe= VotingRegressor([('rf', rf), ('gbdt', gbdt), ('xgb',xgb), ('et',et)],weights=[5,1,1,1])\n",
        "\n",
        "\n",
        "pipe.fit(X_train,Y_train)\n",
        "\n",
        "y_pred = pipe.predict(X_test)\n",
        "\n",
        "print('R2 score',r2_score(Y_test,y_pred))\n",
        "print('MAE',mean_absolute_error(Y_test,y_pred))"
      ],
      "metadata": {
        "colab": {
          "base_uri": "https://localhost:8080/"
        },
        "id": "XIEpl_TAAP9S",
        "outputId": "30765b26-f1be-4577-f7c0-3c5a3b0ca9bc"
      },
      "execution_count": null,
      "outputs": [
        {
          "output_type": "stream",
          "name": "stderr",
          "text": [
            "/usr/local/lib/python3.7/dist-packages/sklearn/ensemble/_voting.py:528: DataConversionWarning: A column-vector y was passed when a 1d array was expected. Please change the shape of y to (n_samples, ), for example using ravel().\n",
            "  y = column_or_1d(y, warn=True)\n"
          ]
        },
        {
          "output_type": "stream",
          "name": "stdout",
          "text": [
            "[11:07:23] WARNING: /workspace/src/objective/regression_obj.cu:152: reg:linear is now deprecated in favor of reg:squarederror.\n",
            "R2 score -1.4586069988531332\n",
            "MAE 0.07811891630486323\n"
          ]
        }
      ]
    },
    {
      "cell_type": "code",
      "source": [
        "import pickle\n",
        "\n",
        "pickle.dump(maindata,open('maindata.pkl','wb'))\n",
        "pickle.dump(pipe,open('pipe.pkl','wb'))"
      ],
      "metadata": {
        "id": "82JxgwYlBEDx"
      },
      "execution_count": null,
      "outputs": []
    },
    {
      "cell_type": "code",
      "source": [
        "import streamlit as st\n",
        "import pickle\n",
        "import numpy as np\n",
        "import pandas\n",
        "\n",
        "# import the model\n",
        "pipe = pandas.read_pickle(open('pipe.pkl','rb'))\n",
        "df = pandas.read_pickle(open('data.pkl','rb'))\n",
        "\n",
        "st.title(\"Stock Market forecasting\")\n",
        "\n",
        "# weight\n",
        "Sentiments= st.number_input('Weight of the Laptop')\n",
        "\n",
        "\n",
        "query = np.array([Sentiments])\n",
        "\n",
        "query = query.reshape(1,12)\n",
        "st.title(\"The predicted price for the stock is:  \" + str(int(np.exp(pipe.predict(query)[0]))))"
      ],
      "metadata": {
        "colab": {
          "base_uri": "https://localhost:8080/",
          "height": 373
        },
        "id": "m_FIbOl5v9k4",
        "outputId": "3faa50e4-ba07-4678-877b-1541ca3913ce"
      },
      "execution_count": null,
      "outputs": [
        {
          "output_type": "error",
          "ename": "ModuleNotFoundError",
          "evalue": "ignored",
          "traceback": [
            "\u001b[0;31m---------------------------------------------------------------------------\u001b[0m",
            "\u001b[0;31mModuleNotFoundError\u001b[0m                       Traceback (most recent call last)",
            "\u001b[0;32m<ipython-input-32-482486f5f744>\u001b[0m in \u001b[0;36m<module>\u001b[0;34m()\u001b[0m\n\u001b[0;32m----> 1\u001b[0;31m \u001b[0;32mimport\u001b[0m \u001b[0mstreamlit\u001b[0m \u001b[0;32mas\u001b[0m \u001b[0mst\u001b[0m\u001b[0;34m\u001b[0m\u001b[0;34m\u001b[0m\u001b[0m\n\u001b[0m\u001b[1;32m      2\u001b[0m \u001b[0;32mimport\u001b[0m \u001b[0mpickle\u001b[0m\u001b[0;34m\u001b[0m\u001b[0;34m\u001b[0m\u001b[0m\n\u001b[1;32m      3\u001b[0m \u001b[0;32mimport\u001b[0m \u001b[0mnumpy\u001b[0m \u001b[0;32mas\u001b[0m \u001b[0mnp\u001b[0m\u001b[0;34m\u001b[0m\u001b[0;34m\u001b[0m\u001b[0m\n\u001b[1;32m      4\u001b[0m \u001b[0;32mimport\u001b[0m \u001b[0mpandas\u001b[0m\u001b[0;34m\u001b[0m\u001b[0;34m\u001b[0m\u001b[0m\n\u001b[1;32m      5\u001b[0m \u001b[0;34m\u001b[0m\u001b[0m\n",
            "\u001b[0;31mModuleNotFoundError\u001b[0m: No module named 'streamlit'",
            "",
            "\u001b[0;31m---------------------------------------------------------------------------\u001b[0;32m\nNOTE: If your import is failing due to a missing package, you can\nmanually install dependencies using either !pip or !apt.\n\nTo view examples of installing some common dependencies, click the\n\"Open Examples\" button below.\n\u001b[0;31m---------------------------------------------------------------------------\u001b[0m\n"
          ],
          "errorDetails": {
            "actions": [
              {
                "action": "open_url",
                "actionText": "Open Examples",
                "url": "/notebooks/snippets/importing_libraries.ipynb"
              }
            ]
          }
        }
      ]
    }
  ]
}